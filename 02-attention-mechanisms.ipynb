{
 "cells": [
  {
   "cell_type": "markdown",
   "metadata": {},
   "source": [
    "**Attention Mechanisms**"
   ]
  },
  {
   "cell_type": "markdown",
   "metadata": {},
   "source": [
    "Simplified Self Attention"
   ]
  },
  {
   "cell_type": "code",
   "execution_count": 1,
   "metadata": {},
   "outputs": [],
   "source": [
    "import torch\n",
    "\n",
    "# example embedding vector for each word\n",
    "inputs = torch.tensor(\n",
    "  [[0.43, 0.15, 0.89], # Your     (x^1)\n",
    "   [0.55, 0.87, 0.66], # journey  (x^2)\n",
    "   [0.57, 0.85, 0.64], # starts   (x^3)\n",
    "   [0.22, 0.58, 0.33], # with     (x^4)\n",
    "   [0.77, 0.25, 0.10], # one      (x^5)\n",
    "   [0.05, 0.80, 0.55]] # step     (x^6)\n",
    ")"
   ]
  },
  {
   "cell_type": "markdown",
   "metadata": {},
   "source": [
    "Computing Attention scores"
   ]
  },
  {
   "cell_type": "code",
   "execution_count": 2,
   "metadata": {},
   "outputs": [
    {
     "name": "stdout",
     "output_type": "stream",
     "text": [
      "Similarity score between journey and 1th word: 0.9544\n",
      "Similarity score between journey and 2th word: 1.4950\n",
      "Similarity score between journey and 3th word: 1.4754\n",
      "Similarity score between journey and 4th word: 0.8434\n",
      "Similarity score between journey and 5th word: 0.7070\n",
      "Similarity score between journey and 6th word: 1.0865\n",
      "Attention scores: tensor([0.9544, 1.4950, 1.4754, 0.8434, 0.7070, 1.0865])\n"
     ]
    }
   ],
   "source": [
    "# query token is the token we want to find the most similar token to\n",
    "query = inputs[1] # journey\n",
    "attention_scores_2 = torch.empty(inputs.shape[0]) # creates an empty tensor of size 6\n",
    "inputs.shape[0] # number of words in the sentence 6 (rows)\n",
    "\n",
    "for i, x_i in enumerate(inputs): # i = index, x_i = word embedding\n",
    "  attention_scores_2[i] = torch.dot(x_i, query) # dot product between query and each word embedding\n",
    "  print(f\"Similarity score between journey and {i+1}th word: {attention_scores_2[i]:.4f}\")\n",
    "print(f\"Attention scores: {attention_scores_2}\")"
   ]
  },
  {
   "cell_type": "markdown",
   "metadata": {},
   "source": [
    "Computing Attention Weigts"
   ]
  },
  {
   "cell_type": "code",
   "execution_count": 3,
   "metadata": {},
   "outputs": [
    {
     "name": "stdout",
     "output_type": "stream",
     "text": [
      "tensor([0.1455, 0.2278, 0.2249, 0.1285, 0.1077, 0.1656])\n",
      "tensor(1.0000)\n"
     ]
    }
   ],
   "source": [
    "# Attention scores are normalized to get the attention weights x/sum(x)\n",
    "\n",
    "attention_weights_2_tmp = attention_scores_2/attention_scores_2.sum() # normalization\n",
    "print(attention_weights_2_tmp)\n",
    "print(attention_weights_2_tmp.sum()) # should sum to 1"
   ]
  },
  {
   "cell_type": "code",
   "execution_count": 4,
   "metadata": {},
   "outputs": [
    {
     "name": "stdout",
     "output_type": "stream",
     "text": [
      "tensor([0.1385, 0.2379, 0.2333, 0.1240, 0.1082, 0.1581])\n",
      "tensor(1.)\n"
     ]
    }
   ],
   "source": [
    "# using softmax function e^x/sum(e^x)\n",
    "# softmax ensures weights are positive and sum to 1\n",
    "\n",
    "def softmax_naive(x):\n",
    "    exp_x = torch.exp(x)\n",
    "    return exp_x / exp_x.sum(dim=0)\n",
    "\n",
    "attention_weights_2_naive = softmax_naive(attention_scores_2)\n",
    "print(attention_weights_2_naive)\n",
    "print(attention_weights_2_naive.sum()) # should sum to 1"
   ]
  },
  {
   "cell_type": "code",
   "execution_count": 5,
   "metadata": {},
   "outputs": [
    {
     "name": "stdout",
     "output_type": "stream",
     "text": [
      "tensor([0.1385, 0.2379, 0.2333, 0.1240, 0.1082, 0.1581])\n",
      "tensor(1.)\n"
     ]
    }
   ],
   "source": [
    "# pytorch softmax function\n",
    "\n",
    "attention_weights_2 = torch.nn.functional.softmax(attention_scores_2, dim=0)\n",
    "print(attention_weights_2)\n",
    "print(attention_weights_2.sum()) # should sum to 1"
   ]
  },
  {
   "cell_type": "markdown",
   "metadata": {},
   "source": [
    "Computing Context Vector"
   ]
  },
  {
   "cell_type": "code",
   "execution_count": 6,
   "metadata": {},
   "outputs": [
    {
     "name": "stdout",
     "output_type": "stream",
     "text": [
      "Context vector after adding 1th word, multiplying 0.13854756951332092 and word tensor([0.4300, 0.1500, 0.8900]): tensor([0.0596, 0.0208, 0.1233])\n",
      "Context vector after adding 2th word, multiplying 0.2378913015127182 and word tensor([0.5500, 0.8700, 0.6600]): tensor([0.1904, 0.2277, 0.2803])\n",
      "Context vector after adding 3th word, multiplying 0.23327402770519257 and word tensor([0.5700, 0.8500, 0.6400]): tensor([0.3234, 0.4260, 0.4296])\n",
      "Context vector after adding 4th word, multiplying 0.12399158626794815 and word tensor([0.2200, 0.5800, 0.3300]): tensor([0.3507, 0.4979, 0.4705])\n",
      "Context vector after adding 5th word, multiplying 0.10818186402320862 and word tensor([0.7700, 0.2500, 0.1000]): tensor([0.4340, 0.5250, 0.4813])\n",
      "Context vector after adding 6th word, multiplying 0.15811361372470856 and word tensor([0.0500, 0.8000, 0.5500]): tensor([0.4419, 0.6515, 0.5683])\n",
      "tensor([0.4419, 0.6515, 0.5683])\n"
     ]
    }
   ],
   "source": [
    "# multiplying attention weights with word embeddings to get the context vector\n",
    "\n",
    "query = inputs[1] # journey\n",
    "context_vector_2 = torch.zeros(query.shape) # creates a tensor of zeros of size 3 (no. of input columns)\n",
    "for i, x_i in enumerate(inputs): # i = index, x_i = word embedding\n",
    "  context_vector_2 += attention_weights_2[i] * x_i # attention weight * correspinding word embedding\n",
    "  print(f\"Context vector after adding {i+1}th word, multiplying {attention_weights_2[i]} and word {x_i}: {context_vector_2}\")\n",
    "\n",
    "print(context_vector_2)\n",
    "\n",
    "# this context vector is related to the query token journey"
   ]
  },
  {
   "cell_type": "markdown",
   "metadata": {},
   "source": [
    "Computing Attention Scores for all Inputs"
   ]
  },
  {
   "cell_type": "code",
   "execution_count": 7,
   "metadata": {},
   "outputs": [
    {
     "name": "stdout",
     "output_type": "stream",
     "text": [
      "Attention scores: tensor([[0.9995, 0.9544, 0.9422, 0.4753, 0.4576, 0.6310],\n",
      "        [0.9544, 1.4950, 1.4754, 0.8434, 0.7070, 1.0865],\n",
      "        [0.9422, 1.4754, 1.4570, 0.8296, 0.7154, 1.0605],\n",
      "        [0.4753, 0.8434, 0.8296, 0.4937, 0.3474, 0.6565],\n",
      "        [0.4576, 0.7070, 0.7154, 0.3474, 0.6654, 0.2935],\n",
      "        [0.6310, 1.0865, 1.0605, 0.6565, 0.2935, 0.9450]])\n"
     ]
    }
   ],
   "source": [
    "# computing attention scores for all words in the sentence (all queries)\n",
    "\n",
    "attention_scores = torch.empty(6,6)\n",
    "for i, x_i in enumerate(inputs):\n",
    "  for j, x_j in enumerate(inputs):\n",
    "    attention_scores[i,j] = torch.dot(x_i, x_j)\n",
    "    # print(f\"Similarity score between {i+1}th and {j+1}th word: {attention_scores[i,j]:.4f}\")\n",
    "print(f\"Attention scores: {attention_scores}\")\n",
    "# each row represents the similarity between the query token and all other tokens"
   ]
  },
  {
   "cell_type": "code",
   "execution_count": 8,
   "metadata": {},
   "outputs": [
    {
     "name": "stdout",
     "output_type": "stream",
     "text": [
      "Attention scores: tensor([[0.9995, 0.9544, 0.9422, 0.4753, 0.4576, 0.6310],\n",
      "        [0.9544, 1.4950, 1.4754, 0.8434, 0.7070, 1.0865],\n",
      "        [0.9422, 1.4754, 1.4570, 0.8296, 0.7154, 1.0605],\n",
      "        [0.4753, 0.8434, 0.8296, 0.4937, 0.3474, 0.6565],\n",
      "        [0.4576, 0.7070, 0.7154, 0.3474, 0.6654, 0.2935],\n",
      "        [0.6310, 1.0865, 1.0605, 0.6565, 0.2935, 0.9450]])\n"
     ]
    }
   ],
   "source": [
    "# or matmul\n",
    "\n",
    "attention_scores = inputs @ inputs.T # 6*3 @ 3*6 = 6*6\n",
    "print(f\"Attention scores: {attention_scores}\")"
   ]
  },
  {
   "cell_type": "markdown",
   "metadata": {},
   "source": [
    "Computing Attention Weights for all inputs"
   ]
  },
  {
   "cell_type": "code",
   "execution_count": 9,
   "metadata": {},
   "outputs": [
    {
     "name": "stdout",
     "output_type": "stream",
     "text": [
      "Attention weights: tensor([[0.2098, 0.2006, 0.1981, 0.1242, 0.1220, 0.1452],\n",
      "        [0.1385, 0.2379, 0.2333, 0.1240, 0.1082, 0.1581],\n",
      "        [0.1390, 0.2369, 0.2326, 0.1242, 0.1108, 0.1565],\n",
      "        [0.1435, 0.2074, 0.2046, 0.1462, 0.1263, 0.1720],\n",
      "        [0.1526, 0.1958, 0.1975, 0.1367, 0.1879, 0.1295],\n",
      "        [0.1385, 0.2184, 0.2128, 0.1420, 0.0988, 0.1896]])\n",
      "Sum of attention weights for the 2nd query (2nd row): 1.0\n"
     ]
    }
   ],
   "source": [
    "# attention weights for all queries\n",
    "# dim=-1 means the last dimension columns - normalize across columns\n",
    "# so that rows sum to 1\n",
    "\n",
    "attention_weights = torch.nn.functional.softmax(attention_scores, dim=-1)\n",
    "print(f\"Attention weights: {attention_weights}\")\n",
    "\n",
    "row2_sum = attention_weights[1].sum()\n",
    "print(f\"Sum of attention weights for the 2nd query (2nd row): {row2_sum}\")"
   ]
  },
  {
   "cell_type": "markdown",
   "metadata": {},
   "source": [
    "Computing Context Vectors for all inputs"
   ]
  },
  {
   "cell_type": "code",
   "execution_count": 10,
   "metadata": {},
   "outputs": [
    {
     "name": "stdout",
     "output_type": "stream",
     "text": [
      "torch.Size([6, 6])\n"
     ]
    },
    {
     "data": {
      "text/plain": [
       "torch.Size([6, 3])"
      ]
     },
     "execution_count": 10,
     "metadata": {},
     "output_type": "execute_result"
    }
   ],
   "source": [
    "print(attention_weights.shape)\n",
    "inputs.shape"
   ]
  },
  {
   "cell_type": "code",
   "execution_count": 11,
   "metadata": {},
   "outputs": [
    {
     "name": "stdout",
     "output_type": "stream",
     "text": [
      "Context vectors: tensor([[0.4421, 0.5931, 0.5790],\n",
      "        [0.4419, 0.6515, 0.5683],\n",
      "        [0.4431, 0.6496, 0.5671],\n",
      "        [0.4304, 0.6298, 0.5510],\n",
      "        [0.4671, 0.5910, 0.5266],\n",
      "        [0.4177, 0.6503, 0.5645]])\n"
     ]
    }
   ],
   "source": [
    "context_vectors = attention_weights @ inputs\n",
    "print(f\"Context vectors: {context_vectors}\")"
   ]
  },
  {
   "cell_type": "markdown",
   "metadata": {},
   "source": [
    "**Self Attention with Trainable Weights**"
   ]
  },
  {
   "cell_type": "code",
   "execution_count": 12,
   "metadata": {},
   "outputs": [],
   "source": [
    "x_2 = inputs[1]\n",
    "d_in = inputs.shape[1] # embedding dimension\n",
    "d_out = 2"
   ]
  },
  {
   "cell_type": "code",
   "execution_count": 13,
   "metadata": {},
   "outputs": [],
   "source": [
    "# initializing weights for all tokens\n",
    "\n",
    "torch.manual_seed(12)\n",
    "W_query = torch.nn.Parameter(torch.randn(d_in, d_out, requires_grad=False)) # set to true while training\n",
    "W_key = torch.nn.Parameter(torch.randn(d_in, d_out, requires_grad=False))\n",
    "W_value = torch.nn.Parameter(torch.randn(d_in, d_out, requires_grad=False))"
   ]
  },
  {
   "cell_type": "code",
   "execution_count": 14,
   "metadata": {},
   "outputs": [
    {
     "name": "stdout",
     "output_type": "stream",
     "text": [
      "Query vector: tensor([ 0.3535, -1.0834], grad_fn=<SqueezeBackward4>)\n"
     ]
    }
   ],
   "source": [
    "# computing query, key, and value vectors for the input query token\n",
    "\n",
    "query2 = x_2 @ W_query\n",
    "key2 = x_2 @ W_key\n",
    "value2 = x_2 @ W_value\n",
    "print(f\"Query vector: {query2}\")"
   ]
  },
  {
   "cell_type": "code",
   "execution_count": 15,
   "metadata": {},
   "outputs": [
    {
     "name": "stdout",
     "output_type": "stream",
     "text": [
      "Keys: tensor([[-0.3644,  0.2614],\n",
      "        [-0.3633, -0.0859],\n",
      "        [-0.3725, -0.1181],\n",
      "        [-0.1439, -0.0038],\n",
      "        [-0.4338, -0.6641],\n",
      "        [-0.0705,  0.3033]], grad_fn=<MmBackward0>)\n",
      "Values: tensor([[-0.3183, -0.6830],\n",
      "        [-0.8002, -1.3512],\n",
      "        [-0.7756, -1.3522],\n",
      "        [-0.5225, -0.7374],\n",
      "        [-0.1137, -0.9896],\n",
      "        [-0.7858, -0.7766]], grad_fn=<MmBackward0>)\n"
     ]
    }
   ],
   "source": [
    "# all other key and value vectors for all other input token\n",
    "keys = inputs @ W_key\n",
    "values = inputs @ W_value\n",
    "print(f\"Keys: {keys}\")\n",
    "print(f\"Values: {values}\")"
   ]
  },
  {
   "cell_type": "markdown",
   "metadata": {},
   "source": [
    "Computing attention score using weights"
   ]
  },
  {
   "cell_type": "code",
   "execution_count": 16,
   "metadata": {},
   "outputs": [
    {
     "name": "stdout",
     "output_type": "stream",
     "text": [
      "tensor(-0.0354, grad_fn=<DotBackward0>)\n"
     ]
    }
   ],
   "source": [
    "# computing unscaled attention score for query input\n",
    "# attn score is a dot product between query vector and key vector\n",
    "\n",
    "keys2 = keys[1] #query token's key vector\n",
    "attention_scores_22 = query2.dot(keys2)\n",
    "print(attention_scores_22)\n"
   ]
  },
  {
   "cell_type": "code",
   "execution_count": 17,
   "metadata": {},
   "outputs": [
    {
     "data": {
      "text/plain": [
       "tensor([-0.4121, -0.0354, -0.0038, -0.0467,  0.5661, -0.3535],\n",
       "       grad_fn=<SqueezeBackward4>)"
      ]
     },
     "execution_count": 17,
     "metadata": {},
     "output_type": "execute_result"
    }
   ],
   "source": [
    "# unscaled attention score for all inputs - matrix multiplication\n",
    "\n",
    "attention_scores_2 = query2 @ keys.T\n",
    "attention_scores_2\n"
   ]
  },
  {
   "cell_type": "markdown",
   "metadata": {},
   "source": [
    "Computing attention weights"
   ]
  },
  {
   "cell_type": "code",
   "execution_count": 18,
   "metadata": {},
   "outputs": [
    {
     "data": {
      "text/plain": [
       "tensor([0.1254, 0.1637, 0.1674, 0.1624, 0.2504, 0.1307],\n",
       "       grad_fn=<SoftmaxBackward0>)"
      ]
     },
     "execution_count": 18,
     "metadata": {},
     "output_type": "execute_result"
    }
   ],
   "source": [
    "# normalize using softmax\n",
    "# to scale attention scores - divide it by sqrt of dim_k\n",
    "# scaling is done to avoid small gradients\n",
    "\n",
    "dim_k = keys.shape[-1] #2 - embedding dimension of keys\n",
    "attention_weights_2 = torch.softmax(attention_scores_2 / dim_k**0.5, dim=-1)\n",
    "attention_weights_2"
   ]
  },
  {
   "cell_type": "code",
   "execution_count": 19,
   "metadata": {},
   "outputs": [
    {
     "name": "stdout",
     "output_type": "stream",
     "text": [
      "tensor([-0.5168, -1.0022], grad_fn=<MvBackward0>)\n"
     ]
    }
   ],
   "source": [
    "# computing context vector for query\n",
    "context_vector_2 = values.T @ attention_weights_2\n",
    "print(context_vector_2)"
   ]
  },
  {
   "cell_type": "code",
   "execution_count": 20,
   "metadata": {},
   "outputs": [],
   "source": [
    "# self attention class\n",
    "import torch.nn as nn\n",
    "\n",
    "class selfAttention_v1(nn.Module):\n",
    "    def __init__(self, d_in, d_out):\n",
    "        super().__init__()\n",
    "        self.W_query = nn.Parameter(torch.randn(d_in, d_out))\n",
    "        self.W_key = nn.Parameter(torch.randn(d_in, d_out))\n",
    "        self.W_value = nn.Parameter(torch.randn(d_in, d_out))\n",
    "    \n",
    "    # forward pass, X = inputs\n",
    "    def forward(self, x):\n",
    "        # computing query, key, and value vectors\n",
    "        query = x @ self.W_query\n",
    "        key = x @ self.W_key\n",
    "        value = x @ self.W_value\n",
    "        # computing attention score\n",
    "        attention_scores = query @ key.T\n",
    "        # computing attention weights\n",
    "        dim_k = key.shape[-1]\n",
    "        attention_weights = torch.softmax(attention_scores / dim_k**0.5, dim=-1)\n",
    "        # computing context vector\n",
    "        context_vector = attention_weights @ value\n",
    "        return context_vector\n",
    "    \n"
   ]
  },
  {
   "cell_type": "code",
   "execution_count": 21,
   "metadata": {},
   "outputs": [
    {
     "name": "stdout",
     "output_type": "stream",
     "text": [
      "tensor([[-0.5008, -1.0070],\n",
      "        [-0.5168, -1.0022],\n",
      "        [-0.5159, -1.0028],\n",
      "        [-0.5417, -0.9892],\n",
      "        [-0.5124, -1.0075],\n",
      "        [-0.5471, -0.9842]], grad_fn=<MmBackward0>)\n"
     ]
    }
   ],
   "source": [
    "torch.manual_seed(12)\n",
    "sa_v1 = selfAttention_v1(d_in, d_out)\n",
    "print(sa_v1(inputs))"
   ]
  },
  {
   "cell_type": "code",
   "execution_count": 22,
   "metadata": {},
   "outputs": [],
   "source": [
    "# more optimized self attention class using nn.linear\n",
    "\n",
    "class SelfAttention_v2(nn.Module):\n",
    "    def __init__(self, d_in, d_out, qkv_bias=False):\n",
    "        super().__init__()\n",
    "        self.W_query = nn.Linear(d_in, d_out, bias= qkv_bias)\n",
    "        self.W_key = nn.Linear(d_in, d_out, bias= qkv_bias)\n",
    "        self.W_value = nn.Linear(d_in, d_out, bias= qkv_bias)\n",
    "\n",
    "    def forward(self, X):\n",
    "        query = self.W_query(X)\n",
    "        key = self.W_query(X)\n",
    "        value = self.W_value(X)\n",
    "        attention_scores = query @ key.T\n",
    "        attention_weights = torch.softmax(attention_scores/key.shape[-1]**0.5, dim=-1)\n",
    "        context_vector = attention_weights @ value\n",
    "        return context_vector"
   ]
  },
  {
   "cell_type": "code",
   "execution_count": 23,
   "metadata": {},
   "outputs": [
    {
     "name": "stdout",
     "output_type": "stream",
     "text": [
      "tensor([[-0.5287, -0.0976],\n",
      "        [-0.5293, -0.1053],\n",
      "        [-0.5293, -0.1052],\n",
      "        [-0.5287, -0.1072],\n",
      "        [-0.5287, -0.1038],\n",
      "        [-0.5288, -0.1080]], grad_fn=<MmBackward0>)\n"
     ]
    }
   ],
   "source": [
    "torch.manual_seed(123)\n",
    "sa_v2 = SelfAttention_v2(d_in, d_out)\n",
    "print(sa_v2(inputs))"
   ]
  },
  {
   "cell_type": "markdown",
   "metadata": {},
   "source": [
    "**Causal Attention**"
   ]
  },
  {
   "cell_type": "markdown",
   "metadata": {},
   "source": [
    "To mask future tokens"
   ]
  },
  {
   "cell_type": "code",
   "execution_count": 25,
   "metadata": {},
   "outputs": [
    {
     "data": {
      "text/plain": [
       "tensor([[0.1717, 0.1762, 0.1761, 0.1555, 0.1627, 0.1579],\n",
       "        [0.1636, 0.1749, 0.1746, 0.1612, 0.1605, 0.1652],\n",
       "        [0.1637, 0.1749, 0.1746, 0.1611, 0.1606, 0.1651],\n",
       "        [0.1636, 0.1704, 0.1702, 0.1652, 0.1632, 0.1674],\n",
       "        [0.1667, 0.1722, 0.1721, 0.1618, 0.1633, 0.1639],\n",
       "        [0.1624, 0.1709, 0.1706, 0.1654, 0.1625, 0.1682]],\n",
       "       grad_fn=<SoftmaxBackward0>)"
      ]
     },
     "execution_count": 25,
     "metadata": {},
     "output_type": "execute_result"
    }
   ],
   "source": [
    "queries = sa_v2.W_query(inputs) #  query vectors\n",
    "keys = sa_v2.W_key(inputs) # key vectors\n",
    "attention_scores = queries @ keys.T # attention scores\n",
    "attention_weights = torch.softmax(attention_scores/keys.shape[-1]**0.5, dim=-1) # attention weights\n",
    "attention_weights"
   ]
  },
  {
   "cell_type": "code",
   "execution_count": 26,
   "metadata": {},
   "outputs": [
    {
     "data": {
      "text/plain": [
       "tensor([[1., 0., 0., 0., 0., 0.],\n",
       "        [1., 1., 0., 0., 0., 0.],\n",
       "        [1., 1., 1., 0., 0., 0.],\n",
       "        [1., 1., 1., 1., 0., 0.],\n",
       "        [1., 1., 1., 1., 1., 0.],\n",
       "        [1., 1., 1., 1., 1., 1.]])"
      ]
     },
     "execution_count": 26,
     "metadata": {},
     "output_type": "execute_result"
    }
   ],
   "source": [
    "# creating a mask - values above diagonal will become 0\n",
    "\n",
    "context_length = attention_scores.shape[0]\n",
    "mask_simple = torch.tril(torch.ones(context_length, context_length)) #sets lower triangle to 1 and upper to 0\n",
    "mask_simple"
   ]
  },
  {
   "cell_type": "code",
   "execution_count": 27,
   "metadata": {},
   "outputs": [
    {
     "name": "stdout",
     "output_type": "stream",
     "text": [
      "tensor([[0.1717, 0.0000, 0.0000, 0.0000, 0.0000, 0.0000],\n",
      "        [0.1636, 0.1749, 0.0000, 0.0000, 0.0000, 0.0000],\n",
      "        [0.1637, 0.1749, 0.1746, 0.0000, 0.0000, 0.0000],\n",
      "        [0.1636, 0.1704, 0.1702, 0.1652, 0.0000, 0.0000],\n",
      "        [0.1667, 0.1722, 0.1721, 0.1618, 0.1633, 0.0000],\n",
      "        [0.1624, 0.1709, 0.1706, 0.1654, 0.1625, 0.1682]],\n",
      "       grad_fn=<MulBackward0>)\n"
     ]
    }
   ],
   "source": [
    "# applying mask to attention weights - just multiply\n",
    "\n",
    "attention_weights_masked = attention_weights * mask_simple\n",
    "print(attention_weights_masked)"
   ]
  },
  {
   "cell_type": "code",
   "execution_count": 28,
   "metadata": {},
   "outputs": [
    {
     "name": "stdout",
     "output_type": "stream",
     "text": [
      "tensor([[1.0000, 0.0000, 0.0000, 0.0000, 0.0000, 0.0000],\n",
      "        [0.4833, 0.5167, 0.0000, 0.0000, 0.0000, 0.0000],\n",
      "        [0.3190, 0.3408, 0.3402, 0.0000, 0.0000, 0.0000],\n",
      "        [0.2445, 0.2545, 0.2542, 0.2468, 0.0000, 0.0000],\n",
      "        [0.1994, 0.2060, 0.2058, 0.1935, 0.1953, 0.0000],\n",
      "        [0.1624, 0.1709, 0.1706, 0.1654, 0.1625, 0.1682]],\n",
      "       grad_fn=<DivBackward0>)\n"
     ]
    }
   ],
   "source": [
    "# normalize so that rows sum to 1\n",
    "\n",
    "row_sum = attention_weights_masked.sum(dim=-1, keepdim=True)\n",
    "mask_simple_normalized = attention_weights_masked / row_sum\n",
    "print(mask_simple_normalized)"
   ]
  },
  {
   "cell_type": "code",
   "execution_count": 32,
   "metadata": {},
   "outputs": [
    {
     "name": "stdout",
     "output_type": "stream",
     "text": [
      "tensor([[0., 1., 1., 1., 1., 1.],\n",
      "        [0., 0., 1., 1., 1., 1.],\n",
      "        [0., 0., 0., 1., 1., 1.],\n",
      "        [0., 0., 0., 0., 1., 1.],\n",
      "        [0., 0., 0., 0., 0., 1.],\n",
      "        [0., 0., 0., 0., 0., 0.]])\n",
      "tensor([[0.3111,   -inf,   -inf,   -inf,   -inf,   -inf],\n",
      "        [0.1655, 0.2602,   -inf,   -inf,   -inf,   -inf],\n",
      "        [0.1667, 0.2602, 0.2577,   -inf,   -inf,   -inf],\n",
      "        [0.0510, 0.1080, 0.1064, 0.0643,   -inf,   -inf],\n",
      "        [0.1415, 0.1875, 0.1863, 0.0987, 0.1121,   -inf],\n",
      "        [0.0476, 0.1192, 0.1171, 0.0731, 0.0477, 0.0966]],\n",
      "       grad_fn=<MaskedFillBackward0>)\n"
     ]
    }
   ],
   "source": [
    "# masking attention scores\n",
    "mask = torch.triu(torch.ones(context_length, context_length), diagonal=1) # upper triangle set to 1\n",
    "masked = attention_scores.masked_fill(mask.bool(), -torch.inf)\n",
    "print(mask)\n",
    "print(masked)"
   ]
  },
  {
   "cell_type": "code",
   "execution_count": 33,
   "metadata": {},
   "outputs": [
    {
     "name": "stdout",
     "output_type": "stream",
     "text": [
      "tensor([[1.0000, 0.0000, 0.0000, 0.0000, 0.0000, 0.0000],\n",
      "        [0.4833, 0.5167, 0.0000, 0.0000, 0.0000, 0.0000],\n",
      "        [0.3190, 0.3408, 0.3402, 0.0000, 0.0000, 0.0000],\n",
      "        [0.2445, 0.2545, 0.2542, 0.2468, 0.0000, 0.0000],\n",
      "        [0.1994, 0.2060, 0.2058, 0.1935, 0.1953, 0.0000],\n",
      "        [0.1624, 0.1709, 0.1706, 0.1654, 0.1625, 0.1682]],\n",
      "       grad_fn=<SoftmaxBackward0>)\n"
     ]
    }
   ],
   "source": [
    "# softmax \n",
    "\n",
    "attention_weights = torch.softmax(masked/keys.shape[-1]**0.5, dim=-1)\n",
    "print(attention_weights)"
   ]
  },
  {
   "cell_type": "markdown",
   "metadata": {},
   "source": [
    "Masking with Dropout"
   ]
  },
  {
   "cell_type": "code",
   "execution_count": null,
   "metadata": {},
   "outputs": [],
   "source": []
  }
 ],
 "metadata": {
  "kernelspec": {
   "display_name": "ml-dl",
   "language": "python",
   "name": "python3"
  },
  "language_info": {
   "codemirror_mode": {
    "name": "ipython",
    "version": 3
   },
   "file_extension": ".py",
   "mimetype": "text/x-python",
   "name": "python",
   "nbconvert_exporter": "python",
   "pygments_lexer": "ipython3",
   "version": "3.12.3"
  }
 },
 "nbformat": 4,
 "nbformat_minor": 2
}
