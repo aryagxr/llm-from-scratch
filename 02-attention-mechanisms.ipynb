{
 "cells": [
  {
   "cell_type": "markdown",
   "metadata": {},
   "source": [
    "**Attention Mechanisms**"
   ]
  },
  {
   "cell_type": "markdown",
   "metadata": {},
   "source": [
    "Simplified Self Attention"
   ]
  },
  {
   "cell_type": "code",
   "execution_count": 18,
   "metadata": {},
   "outputs": [],
   "source": [
    "import torch\n",
    "\n",
    "# example embedding vector for each word\n",
    "inputs = torch.tensor(\n",
    "  [[0.43, 0.15, 0.89], # Your     (x^1)\n",
    "   [0.55, 0.87, 0.66], # journey  (x^2)\n",
    "   [0.57, 0.85, 0.64], # starts   (x^3)\n",
    "   [0.22, 0.58, 0.33], # with     (x^4)\n",
    "   [0.77, 0.25, 0.10], # one      (x^5)\n",
    "   [0.05, 0.80, 0.55]] # step     (x^6)\n",
    ")"
   ]
  },
  {
   "cell_type": "markdown",
   "metadata": {},
   "source": [
    "Computing Attention scores"
   ]
  },
  {
   "cell_type": "code",
   "execution_count": 19,
   "metadata": {},
   "outputs": [
    {
     "name": "stdout",
     "output_type": "stream",
     "text": [
      "Similarity score between journey and 1th word: 0.9544\n",
      "Similarity score between journey and 2th word: 1.4950\n",
      "Similarity score between journey and 3th word: 1.4754\n",
      "Similarity score between journey and 4th word: 0.8434\n",
      "Similarity score between journey and 5th word: 0.7070\n",
      "Similarity score between journey and 6th word: 1.0865\n",
      "Attention scores: tensor([0.9544, 1.4950, 1.4754, 0.8434, 0.7070, 1.0865])\n"
     ]
    }
   ],
   "source": [
    "# query token is the token we want to find the most similar token to\n",
    "query = inputs[1] # journey\n",
    "attention_scores_2 = torch.empty(inputs.shape[0]) # creates an empty tensor of size 6\n",
    "inputs.shape[0] # number of words in the sentence 6 (rows)\n",
    "\n",
    "for i, x_i in enumerate(inputs): # i = index, x_i = word embedding\n",
    "  attention_scores_2[i] = torch.dot(x_i, query) # dot product between query and each word embedding\n",
    "  print(f\"Similarity score between journey and {i+1}th word: {attention_scores_2[i]:.4f}\")\n",
    "print(f\"Attention scores: {attention_scores_2}\")"
   ]
  },
  {
   "cell_type": "markdown",
   "metadata": {},
   "source": [
    "Computing Attention Weigts"
   ]
  },
  {
   "cell_type": "code",
   "execution_count": 20,
   "metadata": {},
   "outputs": [
    {
     "name": "stdout",
     "output_type": "stream",
     "text": [
      "tensor([0.1455, 0.2278, 0.2249, 0.1285, 0.1077, 0.1656])\n",
      "tensor(1.0000)\n"
     ]
    }
   ],
   "source": [
    "# Attention scores are normalized to get the attention weights x/sum(x)\n",
    "\n",
    "attention_weights_2_tmp = attention_scores_2/attention_scores_2.sum() # normalization\n",
    "print(attention_weights_2_tmp)\n",
    "print(attention_weights_2_tmp.sum()) # should sum to 1"
   ]
  },
  {
   "cell_type": "code",
   "execution_count": 21,
   "metadata": {},
   "outputs": [
    {
     "name": "stdout",
     "output_type": "stream",
     "text": [
      "tensor([0.1385, 0.2379, 0.2333, 0.1240, 0.1082, 0.1581])\n",
      "tensor(1.)\n"
     ]
    }
   ],
   "source": [
    "# using softmax function e^x/sum(e^x)\n",
    "# softmax ensures weights are positive and sum to 1\n",
    "\n",
    "def softmax_naive(x):\n",
    "    exp_x = torch.exp(x)\n",
    "    return exp_x / exp_x.sum(dim=0)\n",
    "\n",
    "attention_weights_2_naive = softmax_naive(attention_scores_2)\n",
    "print(attention_weights_2_naive)\n",
    "print(attention_weights_2_naive.sum()) # should sum to 1"
   ]
  },
  {
   "cell_type": "code",
   "execution_count": 22,
   "metadata": {},
   "outputs": [
    {
     "name": "stdout",
     "output_type": "stream",
     "text": [
      "tensor([0.1385, 0.2379, 0.2333, 0.1240, 0.1082, 0.1581])\n",
      "tensor(1.)\n"
     ]
    }
   ],
   "source": [
    "# pytorch softmax function\n",
    "\n",
    "attention_weights_2 = torch.nn.functional.softmax(attention_scores_2, dim=0)\n",
    "print(attention_weights_2)\n",
    "print(attention_weights_2.sum()) # should sum to 1"
   ]
  },
  {
   "cell_type": "markdown",
   "metadata": {},
   "source": [
    "Computing Context Vector"
   ]
  },
  {
   "cell_type": "code",
   "execution_count": 34,
   "metadata": {},
   "outputs": [
    {
     "name": "stdout",
     "output_type": "stream",
     "text": [
      "Context vector after adding 1th word, multiplying 0.13854756951332092 and tensor([0.4300, 0.1500, 0.8900]): tensor([0.0596, 0.0208, 0.1233])\n",
      "Context vector after adding 2th word, multiplying 0.2378913015127182 and tensor([0.5500, 0.8700, 0.6600]): tensor([0.1904, 0.2277, 0.2803])\n",
      "Context vector after adding 3th word, multiplying 0.23327402770519257 and tensor([0.5700, 0.8500, 0.6400]): tensor([0.3234, 0.4260, 0.4296])\n",
      "Context vector after adding 4th word, multiplying 0.12399158626794815 and tensor([0.2200, 0.5800, 0.3300]): tensor([0.3507, 0.4979, 0.4705])\n",
      "Context vector after adding 5th word, multiplying 0.10818186402320862 and tensor([0.7700, 0.2500, 0.1000]): tensor([0.4340, 0.5250, 0.4813])\n",
      "Context vector after adding 6th word, multiplying 0.15811361372470856 and tensor([0.0500, 0.8000, 0.5500]): tensor([0.4419, 0.6515, 0.5683])\n",
      "tensor([0.4419, 0.6515, 0.5683])\n"
     ]
    }
   ],
   "source": [
    "# multiplying attention weights with word embeddings to get the context vector\n",
    "\n",
    "query = inputs[1] # journey\n",
    "context_vector_2 = torch.zeros(query.shape) # creates a tensor of zeros of size 3 (no. of input columns)\n",
    "for i, x_i in enumerate(inputs): # i = index, x_i = word embedding\n",
    "  context_vector_2 += attention_weights_2[i] * x_i # attention weight * correspinding word embedding\n",
    "  print(f\"Context vector after adding {i+1}th word, multiplying {attention_weights_2[i]} and word {x_i}: {context_vector_2}\")\n",
    "\n",
    "print(context_vector_2)\n",
    "\n",
    "# this context vector is related to the query token journey"
   ]
  },
  {
   "cell_type": "markdown",
   "metadata": {},
   "source": [
    "Computing Attention Scores for all Inputs"
   ]
  },
  {
   "cell_type": "code",
   "execution_count": 30,
   "metadata": {},
   "outputs": [
    {
     "name": "stdout",
     "output_type": "stream",
     "text": [
      "Attention scores: tensor([[0.9995, 0.9544, 0.9422, 0.4753, 0.4576, 0.6310],\n",
      "        [0.9544, 1.4950, 1.4754, 0.8434, 0.7070, 1.0865],\n",
      "        [0.9422, 1.4754, 1.4570, 0.8296, 0.7154, 1.0605],\n",
      "        [0.4753, 0.8434, 0.8296, 0.4937, 0.3474, 0.6565],\n",
      "        [0.4576, 0.7070, 0.7154, 0.3474, 0.6654, 0.2935],\n",
      "        [0.6310, 1.0865, 1.0605, 0.6565, 0.2935, 0.9450]])\n"
     ]
    }
   ],
   "source": [
    "# computing attention scores for all words in the sentence (all queries)\n",
    "\n",
    "attention_scores = torch.empty(6,6)\n",
    "for i, x_i in enumerate(inputs):\n",
    "  for j, x_j in enumerate(inputs):\n",
    "    attention_scores[i,j] = torch.dot(x_i, x_j)\n",
    "    # print(f\"Similarity score between {i+1}th and {j+1}th word: {attention_scores[i,j]:.4f}\")\n",
    "print(f\"Attention scores: {attention_scores}\")\n",
    "# each row represents the similarity between the query token and all other tokens"
   ]
  },
  {
   "cell_type": "code",
   "execution_count": 36,
   "metadata": {},
   "outputs": [
    {
     "name": "stdout",
     "output_type": "stream",
     "text": [
      "Attention scores: tensor([[0.9995, 0.9544, 0.9422, 0.4753, 0.4576, 0.6310],\n",
      "        [0.9544, 1.4950, 1.4754, 0.8434, 0.7070, 1.0865],\n",
      "        [0.9422, 1.4754, 1.4570, 0.8296, 0.7154, 1.0605],\n",
      "        [0.4753, 0.8434, 0.8296, 0.4937, 0.3474, 0.6565],\n",
      "        [0.4576, 0.7070, 0.7154, 0.3474, 0.6654, 0.2935],\n",
      "        [0.6310, 1.0865, 1.0605, 0.6565, 0.2935, 0.9450]])\n"
     ]
    }
   ],
   "source": [
    "# or matmul\n",
    "\n",
    "attention_scores = inputs @ inputs.T # 6*3 @ 3*6 = 6*6\n",
    "print(f\"Attention scores: {attention_scores}\")"
   ]
  },
  {
   "cell_type": "markdown",
   "metadata": {},
   "source": [
    "Computing Attention Weights for all inputs"
   ]
  },
  {
   "cell_type": "code",
   "execution_count": 33,
   "metadata": {},
   "outputs": [
    {
     "name": "stdout",
     "output_type": "stream",
     "text": [
      "Attention weights: tensor([[0.2098, 0.2006, 0.1981, 0.1242, 0.1220, 0.1452],\n",
      "        [0.1385, 0.2379, 0.2333, 0.1240, 0.1082, 0.1581],\n",
      "        [0.1390, 0.2369, 0.2326, 0.1242, 0.1108, 0.1565],\n",
      "        [0.1435, 0.2074, 0.2046, 0.1462, 0.1263, 0.1720],\n",
      "        [0.1526, 0.1958, 0.1975, 0.1367, 0.1879, 0.1295],\n",
      "        [0.1385, 0.2184, 0.2128, 0.1420, 0.0988, 0.1896]])\n",
      "Sum of attention weights for the 2nd query (2nd row): 1.0\n"
     ]
    }
   ],
   "source": [
    "# attention weights for all queries\n",
    "# dim=-1 means the last dimension columns - normalize across columns\n",
    "# so that rows sum to 1\n",
    "\n",
    "attention_weights = torch.nn.functional.softmax(attention_scores, dim=-1)\n",
    "print(f\"Attention weights: {attention_weights}\")\n",
    "\n",
    "row2_sum = attention_weights[1].sum()\n",
    "print(f\"Sum of attention weights for the 2nd query (2nd row): {row2_sum}\")"
   ]
  },
  {
   "cell_type": "markdown",
   "metadata": {},
   "source": [
    "Computing Context Vectors for all inputs"
   ]
  },
  {
   "cell_type": "code",
   "execution_count": 39,
   "metadata": {},
   "outputs": [
    {
     "name": "stdout",
     "output_type": "stream",
     "text": [
      "torch.Size([6, 6])\n"
     ]
    },
    {
     "data": {
      "text/plain": [
       "torch.Size([6, 3])"
      ]
     },
     "execution_count": 39,
     "metadata": {},
     "output_type": "execute_result"
    }
   ],
   "source": [
    "print(attention_weights.shape)\n",
    "inputs.shape"
   ]
  },
  {
   "cell_type": "code",
   "execution_count": 40,
   "metadata": {},
   "outputs": [
    {
     "name": "stdout",
     "output_type": "stream",
     "text": [
      "Context vectors: tensor([[0.4421, 0.5931, 0.5790],\n",
      "        [0.4419, 0.6515, 0.5683],\n",
      "        [0.4431, 0.6496, 0.5671],\n",
      "        [0.4304, 0.6298, 0.5510],\n",
      "        [0.4671, 0.5910, 0.5266],\n",
      "        [0.4177, 0.6503, 0.5645]])\n"
     ]
    }
   ],
   "source": [
    "context_vectors = attention_weights @ inputs\n",
    "print(f\"Context vectors: {context_vectors}\")"
   ]
  },
  {
   "cell_type": "markdown",
   "metadata": {},
   "source": [
    "**Self Attention with Trainable Weights**"
   ]
  },
  {
   "cell_type": "code",
   "execution_count": null,
   "metadata": {},
   "outputs": [],
   "source": []
  }
 ],
 "metadata": {
  "kernelspec": {
   "display_name": "ml-dl",
   "language": "python",
   "name": "python3"
  },
  "language_info": {
   "codemirror_mode": {
    "name": "ipython",
    "version": 3
   },
   "file_extension": ".py",
   "mimetype": "text/x-python",
   "name": "python",
   "nbconvert_exporter": "python",
   "pygments_lexer": "ipython3",
   "version": "3.12.3"
  }
 },
 "nbformat": 4,
 "nbformat_minor": 2
}
